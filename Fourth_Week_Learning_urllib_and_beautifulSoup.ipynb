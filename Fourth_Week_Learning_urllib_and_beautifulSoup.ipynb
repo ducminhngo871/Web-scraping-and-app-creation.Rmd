{
  "nbformat": 4,
  "nbformat_minor": 0,
  "metadata": {
    "colab": {
      "name": "Fourth Week Learning - urllib and beautifulSoup.ipynb",
      "provenance": [],
      "collapsed_sections": [],
      "authorship_tag": "ABX9TyMfhizY/fI6Zf1F62DJBJS6",
      "include_colab_link": true
    },
    "kernelspec": {
      "name": "python3",
      "display_name": "Python 3"
    },
    "language_info": {
      "name": "python"
    }
  },
  "cells": [
    {
      "cell_type": "markdown",
      "metadata": {
        "id": "view-in-github",
        "colab_type": "text"
      },
      "source": [
        "<a href=\"https://colab.research.google.com/github/ducminhngo871/Web-scraping-and-app-creation.Rmd/blob/main/Fourth_Week_Learning_urllib_and_beautifulSoup.ipynb\" target=\"_parent\"><img src=\"https://colab.research.google.com/assets/colab-badge.svg\" alt=\"Open In Colab\"/></a>"
      ]
    },
    {
      "cell_type": "code",
      "execution_count": 1,
      "metadata": {
        "colab": {
          "base_uri": "https://localhost:8080/"
        },
        "id": "mi1ZFsj2yzyZ",
        "outputId": "8c351b23-debd-41bf-a7bf-f8f0f89ca591"
      },
      "outputs": [
        {
          "output_type": "stream",
          "name": "stdout",
          "text": [
            "But soft what light through yonder window breaks\n",
            "It is the east and Juliet is the sun\n",
            "Arise fair sun and kill the envious moon\n",
            "Who is already sick and pale with grief\n"
          ]
        }
      ],
      "source": [
        "import urllib.request, urllib.parse, urllib.error \n",
        "\n",
        "fhand = urllib.request.urlopen(\"http://data.pr4e.org/romeo.txt\")\n",
        "for line in fhand: \n",
        "  print(line.decode().strip())"
      ]
    },
    {
      "cell_type": "code",
      "source": [
        "import urllib.request, urllib.parse, urllib.error \n",
        "\n",
        "counts = dict()\n",
        "fhand = urllib.request.urlopen(\"http://data.pr4e.org/romeo.txt\")\n",
        "for line in fhand: \n",
        "  words = line.decode().split()\n",
        "  for word in words: \n",
        "    counts[word] = counts.get(word,1) + 1\n",
        "\n",
        "print(counts)  "
      ],
      "metadata": {
        "colab": {
          "base_uri": "https://localhost:8080/"
        },
        "id": "dzcDnrY6z-hT",
        "outputId": "46d9ac60-aeeb-415c-ebd5-f05a57d66d60"
      },
      "execution_count": 11,
      "outputs": [
        {
          "output_type": "stream",
          "name": "stdout",
          "text": [
            "{'But': 2, 'soft': 2, 'what': 2, 'light': 2, 'through': 2, 'yonder': 2, 'window': 2, 'breaks': 2, 'It': 2, 'is': 4, 'the': 4, 'east': 2, 'and': 4, 'Juliet': 2, 'sun': 3, 'Arise': 2, 'fair': 2, 'kill': 2, 'envious': 2, 'moon': 2, 'Who': 2, 'already': 2, 'sick': 2, 'pale': 2, 'with': 2, 'grief': 2}\n"
          ]
        }
      ]
    },
    {
      "cell_type": "code",
      "source": [
        "import urllib.request, urllib.parse, urllib.error\n",
        "from bs4 import BeautifulSoup\n",
        "\n",
        "url = input('Enter --')\n",
        "html = urllib.request.urlopen(url).read()\n",
        "soup = BeautifulSoup(html, 'html.parser')\n",
        "\n",
        "## Retrieve all of the anchor tags\n",
        "\n",
        "tags = soup('a')\n",
        "for tag in tags:\n",
        "  print(tag.get('href', None))"
      ],
      "metadata": {
        "colab": {
          "base_uri": "https://localhost:8080/"
        },
        "id": "wagvy4whHwDX",
        "outputId": "9e0a1aa6-c756-41b4-ee45-67a9f9a0b59f"
      },
      "execution_count": 14,
      "outputs": [
        {
          "output_type": "stream",
          "name": "stdout",
          "text": [
            "Enter --http://www.dr-chuck.com/page1.htm\n",
            "http://www.dr-chuck.com/page2.htm\n"
          ]
        }
      ]
    },
    {
      "cell_type": "code",
      "source": [
        "import ssl\n",
        "\n",
        "### Ignore SSL Certificate Errors\n",
        "ctx = ssl.create_default_context()\n",
        "ctx.check_hostname = False\n",
        "ctx.verify_mode = ssl.CERT_NONE\n",
        "\n",
        "url = input('Enter ---')\n",
        "html = urllib.request.urlopen(url, context = ctx).read()\n",
        "soup = BeautifulSoup(html, 'html.parser')\n",
        "\n",
        "## Retrieve all of the anchor tags\n",
        "\n",
        "tags = soup('a')\n",
        "for tag in tags:\n",
        "  print(tag.get('href', None))"
      ],
      "metadata": {
        "colab": {
          "base_uri": "https://localhost:8080/"
        },
        "id": "12xY0Wa5J6iV",
        "outputId": "74e5866a-3985-4d48-97e9-68fff1937cb0"
      },
      "execution_count": 17,
      "outputs": [
        {
          "output_type": "stream",
          "name": "stdout",
          "text": [
            "Enter ---http://dr-chuck.com\n",
            "https://www.learnerprivacy.org/\n",
            "https://www.si.umich.edu/\n",
            "https://www.ratemyprofessors.com/ShowRatings.jsp?tid=1159280\n",
            "https://www.learnerprivacy.org\n",
            "https://www.dr-chuck.com/csev-blog/\n",
            "https://www.twitter.com/drchuck/\n",
            "https://www.dr-chuck.com/dr-chuck/resume/speaking.htm\n",
            "https://www.slideshare.net/csev\n",
            "/dr-chuck/resume/index.htm\n",
            "https://amzn.to/1K5Q81K\n",
            "https://www.coursera.org/instructor/drchuck\n",
            "http://afs.dr-chuck.com/papers/\n",
            "https://itunes.apple.com/us/podcast/computing-conversations/id731495760\n",
            "https://www.youtube.com/playlist?list=PLHJB2bhmgB7dFuY7HmrXLj5BmHGKTD-3R\n",
            "https://developers.imsglobal.org/\n",
            "https://www.youtube.com/user/csev\n",
            "https://vimeo.com/drchuck/videos\n",
            "https://backpack.openbadges.org/share/4f76699ddb399d162a00b89a452074b3/\n",
            "https://www.linkedin.com/in/charlesseverance/\n",
            "https://www.researchgate.net/profile/Charles_Severance/\n",
            "https://www.learnerprivacy.org/\n",
            "https://www.py4e.com/\n",
            "https://www.dj4e.com/\n",
            "https://www.wa4e.com/\n",
            "https://www.coursera.org/course/insidetheinternet\n",
            "https://www.sakaiproject.org/\n",
            "https://www.tsugi.org/\n",
            "https://developers.imsglobal.org/\n",
            "http://www.py4e.com/book\n",
            "/sakai-book\n",
            "http://www.amazon.com/gp/product/1624311393/ref=as_li_ss_tl?ie=UTF8&camp=1789&creative=390957&creativeASIN=1624311393&linkCode=as2&tag=drchu02-20\n",
            "http://www.amazon.com/gp/product/059680069X/ref=as_li_ss_tl?ie=UTF8&camp=1789&creative=390957&creativeASIN=059680069X&linkCode=as2&tag=drchu02-20\n",
            "http://www.amazon.com/Performance-Computing-Architectures-Optimization-Benchmarks/dp/156592312X/\n",
            "http://oreilly.com/catalog/9781565923126/\n",
            "http://cnx.org/content/col11136/latest/\n",
            "http://www.youtube.com/playlist?list=PLHJB2bhmgB7dFuY7HmrXLj5BmHGKTD-3R\n",
            "https://www.vimeo.com/17207620\n",
            "https://www.youtube.com/watch?v=BVKpW02hsrU\n",
            "https://www.youtube.com/watch?v=sa2WsgCvn7c\n",
            "https://www.vimeo.com/17213019\n",
            "https://www.youtube.com/watch?v=FJ078sO35M0\n",
            "http://afs.dr-chuck.com/citoolkit\n",
            "https://twitter.com/drchuck\n"
          ]
        }
      ]
    },
    {
      "cell_type": "code",
      "source": [
        ""
      ],
      "metadata": {
        "id": "CKOg7fVYmX0r"
      },
      "execution_count": null,
      "outputs": []
    }
  ]
}